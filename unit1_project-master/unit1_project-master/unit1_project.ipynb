{
 "cells": [
  {
   "cell_type": "markdown",
   "metadata": {},
   "source": [
    "<img src=\"http://imgur.com/1ZcRyrc.png\" style=\"float: left; margin: 20px; height: 55px\">\n",
    "\n",
    "# Project 1: Python Coding Exercises\n",
    "\n",
    "_Authors: Joseph Nelson (DC) _\n",
    "\n",
    "---"
   ]
  },
  {
   "cell_type": "markdown",
   "metadata": {},
   "source": [
    "The following code challenges are drawn from common exercises used in technical interviews.\n",
    "\n",
    "Please note that there may be several ways to approach each challenge. If you get stuck, try mapping out your approach in pseudocode first. Finally, while solutions to problems like these may be found online, remember that if you copy/paste code that you can't explain, you'll be missing out on the point of the project. The only way to truly learn a new skill is through practice, trial, and error - we can only help you improve by understanding where you are having trouble."
   ]
  },
  {
   "cell_type": "markdown",
   "metadata": {},
   "source": [
    "### Challenge 1: Largest Palindrome\n",
    "A palindromic number reads the same both ways. For example, 1234321 is a palindrome. The largest palindrome made from the product of two two-digit numbers is 9009 = 91 × 99. Find the largest palindrome made from the product of two three-digit numbers. Afterward, write a brief explanation walking through your code's logic in markdown."
   ]
  },
  {
   "cell_type": "code",
   "execution_count": 6,
   "metadata": {},
   "outputs": [
    {
     "name": "stdout",
     "output_type": "stream",
     "text": [
      "906609\n"
     ]
    }
   ],
   "source": [
    "def is_palindrome(num):\n",
    "    return str(num) == str(num)[::-1]\n",
    "###create function to determine if a number is a palindrome\n",
    "def largest(bot, top):\n",
    "    z = 0\n",
    "### create function to run palindrome test \n",
    "### Create empty list\n",
    "    for x in range(top, bot, -1):\n",
    "        for y in range(top, bot, -1):\n",
    "### Create 2 for loops to go through range between \n",
    "            if isPalindrome(x*y):\n",
    "                if x * y > z:\n",
    "                    z = x * y\n",
    "### Product needs to be a palindrome and greater than last palindrome                   \n",
    "    return z\n",
    "print(largest(99,1000))\n"
   ]
  },
  {
   "cell_type": "markdown",
   "metadata": {},
   "source": [
    "Essentially this code creates two functions. The first function (is_palindrom():) defines what a palindrome is and the next function (largest():) defines the range that will be tested. 2 for loops are used to go through the range and the last if statement makes sure that the palindrome is the largest possible. "
   ]
  },
  {
   "cell_type": "markdown",
   "metadata": {},
   "source": []
  },
  {
   "cell_type": "markdown",
   "metadata": {},
   "source": [
    "\n",
    "### Challenge 2: Summation of Primes\n",
    "The sum of the primes below 10 is 2 + 3 + 5 + 7 = 17. Find the sum of all the primes below 2,000. Afterward, write a brief explanation walking through your code's logic in markdown."
   ]
  },
  {
   "cell_type": "code",
   "execution_count": 7,
   "metadata": {},
   "outputs": [
    {
     "name": "stdout",
     "output_type": "stream",
     "text": [
      "277050\n"
     ]
    }
   ],
   "source": [
    "numbers = list(range(2, 2000))\n",
    "### define the range to iterate through\n",
    "for prime in numbers:\n",
    "    for x in numbers:\n",
    "### create two for loops to go through the list      \n",
    "        if x % prime == 0 and prime != x:\n",
    "### determine which of the numbers are prime and which are not            \n",
    "            numbers.remove(x)\n",
    "### removses numbers from the lst\n",
    "print(sum(numbers))\n",
    "### sums numbers after non prime numbers are removed from the list\n"
   ]
  },
  {
   "cell_type": "markdown",
   "metadata": {},
   "source": [
    "Step 1 is to define the range\n",
    "Step 2 is to create 2 for loops to go through the numbers list\n",
    "Step 3 is to use an if statement to determines which of the numbers are prime and which are not prime\n",
    "Step 4 removes numbers that are not prime form my numbers list\n",
    "Step 5 sums the prime numbers"
   ]
  },
  {
   "cell_type": "markdown",
   "metadata": {},
   "source": []
  },
  {
   "cell_type": "markdown",
   "metadata": {},
   "source": [
    "### Challenge 3: Multiples of 3 and 5\n",
    "If we list all of the natural numbers below 10 that are multiples of 3 or 5, we get 3, 5, 6, and 9. The sum of these multiples is 23. Find the sum of all the multiples of 3 or 5 below 1,000. Afterward, write a brief explanation walking through your code's logic in markdown."
   ]
  },
  {
   "cell_type": "code",
   "execution_count": 8,
   "metadata": {},
   "outputs": [
    {
     "name": "stdout",
     "output_type": "stream",
     "text": [
      "233168\n"
     ]
    }
   ],
   "source": [
    "sum_total = 0\n",
    "# create empty variable\n",
    "for x in range(1000):\n",
    "# define range   \n",
    "    if x % 3 == 0 or x % 5 == 0:\n",
    "# use an or statement to take both numbers that are divisible by 3 and 5 and add them to sum_total     \n",
    "        sum_total = sum_total + x\n",
    "print(sum_total)\n",
    "# print results after all x from the if statment have been added together "
   ]
  },
  {
   "cell_type": "markdown",
   "metadata": {},
   "source": [
    "Step 1 creates an empty variable\n",
    "Step 2 defines the range\n",
    "Step 3 defines which numbers are multiples of 3 and 5\n",
    "Step 4 adds the numbers are determined to be multiples of 3 and 5 in the if statement\n",
    "Step 5 prints the sum_total of the newly created varaible"
   ]
  },
  {
   "cell_type": "markdown",
   "metadata": {},
   "source": []
  },
  {
   "cell_type": "markdown",
   "metadata": {},
   "source": [
    "### Challenge 4: String Compressor\n",
    "Implement a method to perform basic string compression using the counts of repeated characters. (This is called run-length encoding.) For example, the string \"aabcccccaaa\" would become a2b1c5a3. If the “compressed” string would not become smaller than the original string, your method should return the original string. You can assume the string has only uppercase and lowercase letters (a–z). Specify whether your solution is case sensitive or case insensitive and what you would need to change to make it the other. Afterward, write a brief explanation walking through your code's logic in markdown."
   ]
  },
  {
   "cell_type": "code",
   "execution_count": 10,
   "metadata": {},
   "outputs": [
    {
     "name": "stdout",
     "output_type": "stream",
     "text": [
      "A2a1b1a2b1c3\n"
     ]
    }
   ],
   "source": [
    "def compress(string):\n",
    "    string = list(string)\n",
    "    mystr = []\n",
    "    last = string[0]\n",
    "    count = 1\n",
    "# creates a function that makes an empty list\n",
    "    for x in range(1,len(string)):\n",
    "        # creates a range of 1 and the length of the string\n",
    "        if string[x] == last:\n",
    "            count += 1\n",
    "        # adds up the consecutive strings    \n",
    "        else:\n",
    "            mystr.append(last)\n",
    "            mystr.append(str(count))\n",
    "            last = string[x]\n",
    "            count = 1\n",
    "        # results in 1 if there is only 1 string consecutively    \n",
    "    mystr.append(last)\n",
    "    mystr.append(str(count))\n",
    "    #appends my list in the specified order of string (last) and string count \n",
    "    return ''.join(mystr)\n",
    "    #joins the string char and the number of times the string appears\n",
    "print(compress(\"AAabaabccc\"))\n"
   ]
  },
  {
   "cell_type": "markdown",
   "metadata": {},
   "source": [
    "Step 1 creates a function that makes an empty list\n",
    "Step 2 creates a range of 1 and the length of the string\n",
    "Step 3 adds up the consecutive strings\n",
    "Step 4 results in 1 if there is only 1 string consecutively\n",
    "Step 5 appends my list in the specified order of string (last) and string count \n",
    "Step 6 joins the string char and the number of times the string appears\n",
    "Step 7 call the function created with the specified string\n",
    "\n",
    "This is not case sensitive and will count 'A' and 'a' differently if they appear. In order to make this case sensitive, .upper or .lower would need to be used when defining the fucntion."
   ]
  },
  {
   "cell_type": "markdown",
   "metadata": {},
   "source": []
  },
  {
   "cell_type": "markdown",
   "metadata": {},
   "source": [
    "### Challenge 5: FizzBuzz\n",
    "\n",
    "Write a program that prints all of the numbers from 1 to 100. For multiples of 3, instead of the number, print \"Fizz;\" for multiples of 5, print \"Buzz.\" For numbers that are multiples of both 3 and 5, print \"FizzBuzz.\" Afterward, write a brief explanation walking through your code's logic in markdown."
   ]
  },
  {
   "cell_type": "code",
   "execution_count": 9,
   "metadata": {},
   "outputs": [
    {
     "name": "stdout",
     "output_type": "stream",
     "text": [
      "1\n",
      "2\n",
      "Fizz\n",
      "4\n",
      "Buzz\n",
      "Fizz\n",
      "7\n",
      "8\n",
      "Fizz\n",
      "Buzz\n",
      "11\n",
      "Fizz\n",
      "13\n",
      "14\n",
      "FizzBuzz\n",
      "16\n",
      "17\n",
      "Fizz\n",
      "19\n",
      "Buzz\n",
      "Fizz\n",
      "22\n",
      "23\n",
      "Fizz\n",
      "Buzz\n",
      "26\n",
      "Fizz\n",
      "28\n",
      "29\n",
      "FizzBuzz\n",
      "31\n",
      "32\n",
      "Fizz\n",
      "34\n",
      "Buzz\n",
      "Fizz\n",
      "37\n",
      "38\n",
      "Fizz\n",
      "Buzz\n",
      "41\n",
      "Fizz\n",
      "43\n",
      "44\n",
      "FizzBuzz\n",
      "46\n",
      "47\n",
      "Fizz\n",
      "49\n",
      "Buzz\n",
      "Fizz\n",
      "52\n",
      "53\n",
      "Fizz\n",
      "Buzz\n",
      "56\n",
      "Fizz\n",
      "58\n",
      "59\n",
      "FizzBuzz\n",
      "61\n",
      "62\n",
      "Fizz\n",
      "64\n",
      "Buzz\n",
      "Fizz\n",
      "67\n",
      "68\n",
      "Fizz\n",
      "Buzz\n",
      "71\n",
      "Fizz\n",
      "73\n",
      "74\n",
      "FizzBuzz\n",
      "76\n",
      "77\n",
      "Fizz\n",
      "79\n",
      "Buzz\n",
      "Fizz\n",
      "82\n",
      "83\n",
      "Fizz\n",
      "Buzz\n",
      "86\n",
      "Fizz\n",
      "88\n",
      "89\n",
      "FizzBuzz\n",
      "91\n",
      "92\n",
      "Fizz\n",
      "94\n",
      "Buzz\n",
      "Fizz\n",
      "97\n",
      "98\n",
      "Fizz\n"
     ]
    }
   ],
   "source": [
    "# Define range\n",
    "for x in range(1,100):\n",
    "# use if and elif statements to identify numbers that are divided by 3, 5 and both 3 and 5 and print them as Fizz, Buzz, and FizzBuzz\n",
    "    if x % 3 == 0 and x % 5 == 0:\n",
    "        print('FizzBuzz')\n",
    "    elif x % 3 == 0:\n",
    "        print('Fizz')\n",
    "    elif x % 5 == 0:\n",
    "        print('Buzz')\n",
    "    else:\n",
    "        print(str(x))\n",
    "# print the remainder of the numbers as is "
   ]
  },
  {
   "cell_type": "markdown",
   "metadata": {},
   "source": [
    "Step 1 define range\n",
    "Step 2 use if and elif statements to to identify numbers that are divided by 3, 5 and both 3 and 5 and print them as Fizz, Buzz, and FizzBuzz\n",
    "Step 3 print the remaining numbers that are not affected by the if/elif statements"
   ]
  },
  {
   "cell_type": "markdown",
   "metadata": {},
   "source": []
  }
 ],
 "metadata": {
  "anaconda-cloud": {},
  "kernelspec": {
   "display_name": "Python 3",
   "language": "python",
   "name": "python3"
  },
  "language_info": {
   "codemirror_mode": {
    "name": "ipython",
    "version": 3
   },
   "file_extension": ".py",
   "mimetype": "text/x-python",
   "name": "python",
   "nbconvert_exporter": "python",
   "pygments_lexer": "ipython3",
   "version": "3.6.4"
  }
 },
 "nbformat": 4,
 "nbformat_minor": 2
}
